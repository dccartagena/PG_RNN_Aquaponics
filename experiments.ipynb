{
 "cells": [
  {
   "cell_type": "markdown",
   "metadata": {},
   "source": [
    "# Multivariate time-series forecasting for Aquaponics"
   ]
  },
  {
   "cell_type": "markdown",
   "metadata": {},
   "source": [
    "### Abstract\n",
    "Implementation of physics-guided recurrent neural networks (PG-RNN) as architecture to forecast relevant variables in Aquaponics. The main advantage of this architecture is the inclusion of theory-based knowledge into deep learning models as a constraint optimization formulation. The resulting PGNN model will be used in a model-based reinforcement learning framework.\n",
    "\n",
    "Target variables to forecast:\n",
    "* Electro-conductivity\n",
    "* pH\n",
    "* Dissolved oxygen\n",
    "* Vegetable weight"
   ]
  },
  {
   "cell_type": "markdown",
   "metadata": {},
   "source": [
    "Import libraries: \n",
    "* PyTorch for deep learning model design\n",
    "* TensorBoard for model training visualization\n",
    "* Pandas, Numpy, MatplotLib for scientific computing\n"
   ]
  },
  {
   "cell_type": "code",
   "execution_count": 2,
   "metadata": {},
   "outputs": [],
   "source": [
    "import os\n",
    "\n",
    "import torch\n",
    "import torch.nn as nn\n",
    "import torch.nn.functional as F\n",
    "\n",
    "from torch.utils.data import DataLoader\n",
    "from torch.utils.tensorboard import SummaryWriter\n",
    "\n",
    "import pandas as pd\n",
    "import numpy as np\n",
    "import matplotlib.pyplot as plt"
   ]
  },
  {
   "cell_type": "markdown",
   "metadata": {},
   "source": [
    "Code checklist\n",
    "* Data\n",
    "    * Data asquisition\n",
    "    * Data pre-processing\n",
    "        * Outliers removal\n",
    "        * Noise filtering\n",
    "        * Missing data filling\n",
    "    * Data architecture - Time-series\n",
    "* Model\n",
    "    * Model design:\n",
    "        * Baseline model: \n",
    "            * Recurrent Neural Network\n",
    "            * Feed-fordward Neural Network\n",
    "        * Physics-guided Neural Network\n",
    "            * How to include constraints in the model? \n",
    "    * Experiment design:\n",
    "        * Training/evaluation routine\n",
    "        * Multi-GPU training\n",
    "* Experiments\n",
    "    * Training\n",
    "    * Validation\n",
    "    * Results visualization - TensorBoard\n"
   ]
  },
  {
   "cell_type": "markdown",
   "metadata": {},
   "source": [
    "### Data Pre-processing\n",
    "* Pre-processing routine to remove outliers, fill missing data and denoise signals from aquaponics.\n",
    "* The data comes from an aquaponics between October 15th to December 4th (Fall/Winter)\n",
    "* The variables to analyze are:\n",
    "    * To be added"
   ]
  },
  {
   "cell_type": "code",
   "execution_count": null,
   "metadata": {},
   "outputs": [],
   "source": []
  }
 ],
 "metadata": {
  "interpreter": {
   "hash": "d61e67d4406f83661a218a7594034be74564666d0640d3900a3e99845865d0f0"
  },
  "kernelspec": {
   "display_name": "Python 3.8.12 64-bit ('torch': conda)",
   "language": "python",
   "name": "python3"
  },
  "language_info": {
   "codemirror_mode": {
    "name": "ipython",
    "version": 3
   },
   "file_extension": ".py",
   "mimetype": "text/x-python",
   "name": "python",
   "nbconvert_exporter": "python",
   "pygments_lexer": "ipython3",
   "version": "3.8.12"
  },
  "orig_nbformat": 4
 },
 "nbformat": 4,
 "nbformat_minor": 2
}
